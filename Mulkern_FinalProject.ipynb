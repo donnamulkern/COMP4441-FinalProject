{
 "cells": [
  {
   "cell_type": "markdown",
   "metadata": {},
   "source": [
    "# Dementia and Alzheimers: Early Predictors"
   ]
  },
  {
   "cell_type": "markdown",
   "metadata": {},
   "source": [
    "## Dataset\n",
    "\n",
    "The data used in this project comes from the OASIS (Open Access Series of Imaging Studies) Brains organization, which aims to provide neuroscientific images and data freely to the scientific community. The citations for both datasets are below:\n",
    "\n",
    "OASIS: Cross-Sectional: Principal Investigators: D. Marcus, R, Buckner, J, Csernansky J. Morris; P50 AG05681, P01 AG03991, P01 AG026276, R01 AG021910, P20 MH071616, U24 RR021382\n",
    "\n",
    "\n",
    "OASIS: Longitudinal: Principal Investigators: D. Marcus, R, Buckner, J. Csernansky, J. Morris; P50 AG05681, P01 AG03991, P01 AG026276, R01 AG021910, P20 MH071616, U24 RR021382\n",
    "\n",
    "This dataset was accessed through Kaggle at https://www.kaggle.com/jboysen/mri-and-alzheimers\n",
    "\n"
   ]
  },
  {
   "cell_type": "markdown",
   "metadata": {},
   "source": [
    "## Motivation \n",
    "\n",
    "Dementia and its specific subtype of Alzheimer's disease are some of the most pervasive health conditions that affect millions of people around the world. A diagnosis of this disease is heartbreaking not only for the patient but also for their families, because this means that over time, the patient will slowly lose touch with the world around them and might even stop recognizing their loved ones. \n",
    "\n",
    "Brain scans of Alzheimer's and dementia patients indicate loss of white matter volume, deteriorated neuronal connections, and a buildup of amyloid plaques. Taken all together, the patients exhibit symptoms such as short-term memory loss, general forgetfulness, increasing dependence on caregivers, speech loss, and other coordination problems.\n",
    "\n",
    "Although a drug called Aduhelm was recently approved to be fast-tracked by the FDA as a treatment for Alzheimer's disease (https://www.fda.gov/news-events/press-announcements/fda-grants-accelerated-approval-alzheimers-drug), the evidence for the effectiveness of the drug is not overwhelmingly positive, and at best, the drug will only slow down the deterioration. \n",
    "\n",
    "Given the widespread nature of the disease and the burden that it places on society as a whole, studying this disease and "
   ]
  }
 ],
 "metadata": {
  "kernelspec": {
   "display_name": "Python 3",
   "language": "python",
   "name": "python3"
  },
  "language_info": {
   "codemirror_mode": {
    "name": "ipython",
    "version": 3
   },
   "file_extension": ".py",
   "mimetype": "text/x-python",
   "name": "python",
   "nbconvert_exporter": "python",
   "pygments_lexer": "ipython3",
   "version": "3.8.5"
  }
 },
 "nbformat": 4,
 "nbformat_minor": 4
}
