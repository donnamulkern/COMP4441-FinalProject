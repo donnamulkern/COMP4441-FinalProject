{
 "cells": [
  {
   "cell_type": "markdown",
   "metadata": {},
   "source": [
    "# Dementia and Alzheimers: Early Predictors"
   ]
  },
  {
   "cell_type": "markdown",
   "metadata": {},
   "source": [
    "## Dataset\n",
    "\n",
    "The data used in this project comes from the OASIS (Open Access Series of Imaging Studies) Brains organization, which aims to provide neuroscientific images and data freely to the scientific community. The citations for both datasets are below:\n",
    "\n",
    "OASIS: Cross-Sectional: Principal Investigators: D. Marcus, R, Buckner, J, Csernansky J. Morris; P50 AG05681, P01 AG03991, P01 AG026276, R01 AG021910, P20 MH071616, U24 RR021382\n",
    "\n",
    "\n",
    "OASIS: Longitudinal: Principal Investigators: D. Marcus, R, Buckner, J. Csernansky, J. Morris; P50 AG05681, P01 AG03991, P01 AG026276, R01 AG021910, P20 MH071616, U24 RR021382\n",
    "\n",
    "This dataset was accessed through Kaggle at https://www.kaggle.com/jboysen/mri-and-alzheimers\n",
    "\n"
   ]
  },
  {
   "cell_type": "markdown",
   "metadata": {},
   "source": [
    "## Motivation \n",
    "\n",
    "Dementia and its specific subtype of Alzheimer's disease are some of the most pervasive health conditions that affect millions of people around the world. A diagnosis of this disease is heartbreaking not only for the patient but also for their families, because this means that over time, the patient will slowly lose touch with the world around them and might even stop recognizing their loved ones. \n",
    "\n",
    "Brain scans of Alzheimer's and dementia patients indicate loss of white matter volume, deteriorated neuronal connections, and a buildup of amyloid plaques. Taken all together, the patients exhibit symptoms such as short-term memory loss, general forgetfulness, increasing dependence on caregivers, speech loss, and other coordination problems.\n",
    "\n",
    "Although a drug called Aduhelm was recently approved to be fast-tracked by the FDA as a treatment for Alzheimer's disease (https://www.fda.gov/news-events/press-announcements/fda-grants-accelerated-approval-alzheimers-drug), the evidence for the effectiveness of the drug is not overwhelmingly positive, and at best, the drug will only slow down the deterioration. \n",
    "\n",
    "Given the widespread nature of the disease and the burden that it places on society as a whole, studying this disease and identifying signs early on is of utmost importance. The focus of this project will be to attempt to identify the correlation of dementia onset with other factors and variables. "
   ]
  },
  {
   "cell_type": "markdown",
   "metadata": {},
   "source": [
    "## Research Question\n",
    "\n",
    "This project will be examining two separate datasets-- one that is cross-sectional (a larger group at a single moment in time) and one that is longitudinal (data collected from a smaller group over a longer period of time). The data use agreement restricts anyone from attempting to combine these datasets due to public health concerns, but even so we can investigate a few questions from different angles using these two datasets. \n",
    "\n",
    "Can we predict a diagnosis of Alzheimer's disease or dementia from other factors? \n",
    "Is there any correlation in how fast the symptoms accelerate and other factors?"
   ]
  },
  {
   "cell_type": "markdown",
   "metadata": {},
   "source": [
    "## Literature Review \n",
    "\n",
    "Ardekani, Babak A et al. “Corpus callosum shape changes in early Alzheimer's disease: an MRI study using the OASIS brain database.” Brain structure & function vol. 219,1 (2014): 343-52. doi:10.1007/s00429-013-0503-0\n",
    "\n",
    "The above article used brain scans from the OASIS brain database to visualize differences in the corpus callosum. The corpus callosum is the connection between the two hemispheres of the brain; decay of this bundle of fibers results in decreased cognitive coherence. The study found that decreased circularity of the corpus callosum is correlated with early Alzheimer's disease. There is also sexual dimorphism associated with corpus callosum circularity; female corpus callosums are less circular than male.  \n",
    "\n",
    "Chen, Ting et al. “CAVIAR: CLASSIFICATION VIA AGGREGATED REGRESSION AND ITS APPLICATION IN CLASSIFYING OASIS BRAIN DATABASE.” Proceedings. IEEE International Symposium on Biomedical Imaging vol. 2010 (2010): 1337-1340. doi:10.1109/ISBI.2010.5490244\n",
    "\n",
    "The above article also utilized the OASIS brain database images, but took a different approach in that they created the CAVIAR algorithm for classification from a training set of images, and then validated it using a different set of images. The algorithm is based on \"the histogram of the deformation field between the MRI brain scan and the atlas which captures the structural changes in the scan with respect to the atlas brain\". The classifier was shown to be a good way of identifying different brain states of healthy or diseased and what stage of dementia was present. \n",
    "\n",
    "The current project will be smaller in scope because I simply do not have the computing power required to view the MRI scans themselves and analyze that data; however, I will be able to view the external patient information and draw conclusions based on that. "
   ]
  }
 ],
 "metadata": {
  "kernelspec": {
   "display_name": "Python 3",
   "language": "python",
   "name": "python3"
  },
  "language_info": {
   "codemirror_mode": {
    "name": "ipython",
    "version": 3
   },
   "file_extension": ".py",
   "mimetype": "text/x-python",
   "name": "python",
   "nbconvert_exporter": "python",
   "pygments_lexer": "ipython3",
   "version": "3.8.5"
  }
 },
 "nbformat": 4,
 "nbformat_minor": 4
}
